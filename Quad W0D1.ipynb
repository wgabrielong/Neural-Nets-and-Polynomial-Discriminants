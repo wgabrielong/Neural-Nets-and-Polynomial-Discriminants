{
 "cells": [
  {
   "cell_type": "code",
   "execution_count": 2,
   "id": "60d9792a-3cfe-4f63-a2ca-f6583c6291d3",
   "metadata": {},
   "outputs": [
    {
     "data": {
      "text/plain": [
       "(w1_11, w1_12, w1_21, w1_22, b1_1, b1_2)"
      ]
     },
     "execution_count": 2,
     "metadata": {},
     "output_type": "execute_result"
    }
   ],
   "source": [
    "var('w1_11, w1_12, w1_21, w1_22, b1_1, b1_2')"
   ]
  },
  {
   "cell_type": "code",
   "execution_count": 3,
   "id": "15a8aee7-8917-47ca-afc3-a3fde9b0a224",
   "metadata": {},
   "outputs": [
    {
     "data": {
      "text/plain": [
       "(x, y)"
      ]
     },
     "execution_count": 3,
     "metadata": {},
     "output_type": "execute_result"
    }
   ],
   "source": [
    "var('x, y')"
   ]
  },
  {
   "cell_type": "code",
   "execution_count": 4,
   "id": "e0764609-b79e-4455-bbb2-152bb192fc13",
   "metadata": {},
   "outputs": [],
   "source": [
    "S = QQ[w1_11, w1_12, w1_21, w1_22, b1_1, b1_2][x,y]"
   ]
  },
  {
   "cell_type": "code",
   "execution_count": 5,
   "id": "e800360c-52b1-4e0c-9d6f-f9097886a90d",
   "metadata": {},
   "outputs": [],
   "source": [
    "W1 = Matrix([[w1_11, w1_12],[w1_21, w1_22]])\n",
    "B1 = vector([b1_1, b1_2])\n",
    "X = vector([x,y])"
   ]
  },
  {
   "cell_type": "code",
   "execution_count": 6,
   "id": "6d643bbf-dabf-4683-b4ba-70983a4d214c",
   "metadata": {},
   "outputs": [
    {
     "data": {
      "text/plain": [
       "((w1_11*x + w1_12*y + b1_1)^2, (w1_21*x + w1_22*y + b1_2)^2)"
      ]
     },
     "execution_count": 6,
     "metadata": {},
     "output_type": "execute_result"
    }
   ],
   "source": [
    "O1 = W1*X + B1\n",
    "sqO1 = O1.apply_map(lambda x: x^2)\n",
    "sqO1"
   ]
  },
  {
   "cell_type": "code",
   "execution_count": 7,
   "id": "93114af0-7be4-4286-a40f-fa721c9c22f2",
   "metadata": {},
   "outputs": [],
   "source": [
    "Output = sqO1*vector([1,-1])"
   ]
  },
  {
   "cell_type": "code",
   "execution_count": 8,
   "id": "4bf600a5-98a2-45cb-bf3a-eb54f33e0dd5",
   "metadata": {},
   "outputs": [],
   "source": [
    "DiscPoly = S(expand(Output))"
   ]
  },
  {
   "cell_type": "code",
   "execution_count": 9,
   "id": "75189e85-5481-4bfa-9d32-2b035172b0a6",
   "metadata": {},
   "outputs": [],
   "source": [
    "Coeff_x2 = DiscPoly.monomial_coefficient(S(x^2))\n",
    "Coeff_xy = DiscPoly.monomial_coefficient(S(x*y))\n",
    "Coeff_y2 = DiscPoly.monomial_coefficient(S(y^2))"
   ]
  },
  {
   "cell_type": "code",
   "execution_count": 10,
   "id": "62752784-8822-4ae3-96c6-04fddea187cd",
   "metadata": {},
   "outputs": [],
   "source": [
    "Coeff_x = DiscPoly.monomial_coefficient(S(x))\n",
    "Coeff_y = DiscPoly.monomial_coefficient(S(y))"
   ]
  },
  {
   "cell_type": "code",
   "execution_count": 11,
   "id": "1c3b6215-01b2-4368-9a68-2f441720af46",
   "metadata": {},
   "outputs": [],
   "source": [
    "Coeff_c = DiscPoly.constant_coefficient()"
   ]
  },
  {
   "cell_type": "code",
   "execution_count": 12,
   "id": "1374d32c-985a-489d-868c-f22ee55d340d",
   "metadata": {},
   "outputs": [],
   "source": [
    "var(\"C_x2, C_xy, C_y2, C_x, C_y, C_c\")\n",
    "A = QQ[w1_11, w1_12, w1_21, w1_22, b1_1, b1_2, C_x2, C_xy, C_y2, C_x, C_y, C_c]"
   ]
  },
  {
   "cell_type": "code",
   "execution_count": 13,
   "id": "7742fc66-5408-4680-af1e-83f59e49b0cd",
   "metadata": {},
   "outputs": [],
   "source": [
    "I = A.ideal(Coeff_x2 - C_x2, Coeff_xy - C_xy, Coeff_y2 - C_y2, Coeff_x - C_x, Coeff_y - C_y, Coeff_c - C_c)"
   ]
  },
  {
   "cell_type": "code",
   "execution_count": 14,
   "id": "ccd0da06-f96e-4db9-afa2-f1e561c13725",
   "metadata": {},
   "outputs": [
    {
     "data": {
      "text/plain": [
       "Ideal (C_y2*C_x^2 - C_xy*C_x*C_y + C_x2*C_y^2 + C_xy^2*C_c - 4*C_x2*C_y2*C_c) of Multivariate Polynomial Ring in w1_11, w1_12, w1_21, w1_22, b1_1, b1_2, C_x2, C_xy, C_y2, C_x, C_y, C_c over Rational Field"
      ]
     },
     "execution_count": 14,
     "metadata": {},
     "output_type": "execute_result"
    }
   ],
   "source": [
    "I.elimination_ideal([A(w1_11), A(w1_12), A(w1_21), A(w1_22), A(b1_1), A(b1_2)])"
   ]
  },
  {
   "cell_type": "code",
   "execution_count": 15,
   "id": "381a49af-1b32-4a07-9fb0-c7783980d2f0",
   "metadata": {},
   "outputs": [
    {
     "data": {
      "text/plain": [
       "Ideal (0) of Multivariate Polynomial Ring in w1_11, w1_12, w1_21, w1_22, b1_1, b1_2, C_x2, C_xy, C_y2, C_x, C_y, C_c over Rational Field"
      ]
     },
     "execution_count": 15,
     "metadata": {},
     "output_type": "execute_result"
    }
   ],
   "source": [
    "I.elimination_ideal([A(C_x2), A(C_xy), A(C_y2), A(C_x), A(C_y), A(C_c)])"
   ]
  }
 ],
 "metadata": {
  "kernelspec": {
   "display_name": "SageMath 9.5",
   "language": "sage",
   "name": "sagemath"
  },
  "language_info": {
   "codemirror_mode": {
    "name": "ipython",
    "version": 3
   },
   "file_extension": ".py",
   "mimetype": "text/x-python",
   "name": "python",
   "nbconvert_exporter": "python",
   "pygments_lexer": "ipython3",
   "version": "3.9.7"
  }
 },
 "nbformat": 4,
 "nbformat_minor": 5
}
