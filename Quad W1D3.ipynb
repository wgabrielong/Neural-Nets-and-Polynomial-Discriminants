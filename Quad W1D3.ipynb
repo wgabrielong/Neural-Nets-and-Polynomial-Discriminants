{
 "cells": [
  {
   "cell_type": "code",
   "execution_count": 1,
   "id": "f8344a2a-644d-4f44-bdac-a4a82402a5d1",
   "metadata": {},
   "outputs": [
    {
     "data": {
      "text/plain": [
       "(w1_1, w1_2, b1_1)"
      ]
     },
     "execution_count": 1,
     "metadata": {},
     "output_type": "execute_result"
    }
   ],
   "source": [
    "var('w1_1, w1_2, b1_1')"
   ]
  },
  {
   "cell_type": "code",
   "execution_count": 2,
   "id": "1058ca1e-c468-4581-b423-e2d7c917713c",
   "metadata": {},
   "outputs": [
    {
     "data": {
      "text/plain": [
       "(w2_1, b2_1)"
      ]
     },
     "execution_count": 2,
     "metadata": {},
     "output_type": "execute_result"
    }
   ],
   "source": [
    "var('w2_1, b2_1')"
   ]
  },
  {
   "cell_type": "code",
   "execution_count": 3,
   "id": "8695593f-0ef5-4aa2-ac7d-791203974e84",
   "metadata": {},
   "outputs": [
    {
     "data": {
      "text/plain": [
       "(w3_1, w3_2, b3_1, b3_2)"
      ]
     },
     "execution_count": 3,
     "metadata": {},
     "output_type": "execute_result"
    }
   ],
   "source": [
    "var('w3_1, w3_2, b3_1, b3_2')"
   ]
  },
  {
   "cell_type": "code",
   "execution_count": 4,
   "id": "e11474e6-658d-4697-a046-c4924f55d988",
   "metadata": {},
   "outputs": [
    {
     "data": {
      "text/plain": [
       "(x, y)"
      ]
     },
     "execution_count": 4,
     "metadata": {},
     "output_type": "execute_result"
    }
   ],
   "source": [
    "var('x,y')"
   ]
  },
  {
   "cell_type": "code",
   "execution_count": 5,
   "id": "d7785c2f-f490-40e1-ac2c-dda189b1cb16",
   "metadata": {},
   "outputs": [],
   "source": [
    "S = QQ[w1_1, w1_2, b1_1, w2_1, b2_1, w3_1, w3_2, b3_1, b3_2][x,y]"
   ]
  },
  {
   "cell_type": "code",
   "execution_count": 6,
   "id": "085bed30-222c-4ce1-bc24-09eb42847a8d",
   "metadata": {},
   "outputs": [],
   "source": [
    "W1 = vector([w1_1, w1_2])\n",
    "B1 = vector([b1_1])\n",
    "W3 = vector([w3_1, w3_2])\n",
    "B3 = vector([b3_1, b3_2])\n",
    "X = vector([x,y])"
   ]
  },
  {
   "cell_type": "code",
   "execution_count": 7,
   "id": "c1be70ca-9172-4b40-853d-136362de8250",
   "metadata": {},
   "outputs": [
    {
     "data": {
      "text/plain": [
       "(w1_1*x + w1_2*y + b1_1)^2"
      ]
     },
     "execution_count": 7,
     "metadata": {},
     "output_type": "execute_result"
    }
   ],
   "source": [
    "O1 = W1.dot_product(X) + b1_1\n",
    "sqO1 = O1 * O1\n",
    "sqO1"
   ]
  },
  {
   "cell_type": "code",
   "execution_count": 8,
   "id": "0b7a5ff5-3e69-4d99-bfc8-d700ce1a3249",
   "metadata": {},
   "outputs": [],
   "source": [
    "O2 = w2_1*O1 + b2_1\n",
    "sqO2 = O2 * O2"
   ]
  },
  {
   "cell_type": "code",
   "execution_count": 9,
   "id": "e22ad08c-9006-4498-a319-361709c1e215",
   "metadata": {},
   "outputs": [],
   "source": [
    "O3 = W3*sqO2 + B3\n",
    "sqO3 = O3.apply_map(lambda x: x^2)"
   ]
  },
  {
   "cell_type": "code",
   "execution_count": 10,
   "id": "de7b9475-2897-4ed0-b62a-3c86f340949d",
   "metadata": {},
   "outputs": [],
   "source": [
    "Output = sqO3*vector([1,-1])"
   ]
  },
  {
   "cell_type": "code",
   "execution_count": 11,
   "id": "efa39b71-aff0-4440-a3cb-de9cb64fa39d",
   "metadata": {},
   "outputs": [],
   "source": [
    "DiscPoly = S(expand(Output))"
   ]
  },
  {
   "cell_type": "code",
   "execution_count": 12,
   "id": "07862333-9ffd-489a-bce8-d4eb3a861430",
   "metadata": {},
   "outputs": [],
   "source": [
    "Coeff_x8 = DiscPoly.monomial_coefficient(S(x^8))\n",
    "Coeff_x7y = DiscPoly.monomial_coefficient(S(x^7*y))\n",
    "Coeff_x6y2 = DiscPoly.monomial_coefficient(S(x^6*y^2))\n",
    "Coeff_x5y3 = DiscPoly.monomial_coefficient(S(x^5*y^3))\n",
    "Coeff_x4y4 = DiscPoly.monomial_coefficient(S(x^4*y^4))\n",
    "Coeff_x3y5 = DiscPoly.monomial_coefficient(S(x^3*y^5))\n",
    "Coeff_x2y6 = DiscPoly.monomial_coefficient(S(x^2*y^6))\n",
    "Coeff_xy7 = DiscPoly.monomial_coefficient(S(x*y^7))\n",
    "Coeff_y8 = DiscPoly.monomial_coefficient(S(y^8))"
   ]
  },
  {
   "cell_type": "code",
   "execution_count": 13,
   "id": "0bcae852-ffee-4fc1-b442-cd5baed273b1",
   "metadata": {},
   "outputs": [],
   "source": [
    "Coeff_x7 = DiscPoly.monomial_coefficient(S(x^7))\n",
    "Coeff_x6y = DiscPoly.monomial_coefficient(S(x^6*y))\n",
    "Coeff_x5y2 = DiscPoly.monomial_coefficient(S(x^5*y^2))\n",
    "Coeff_x4y3 = DiscPoly.monomial_coefficient(S(x^4*y^3))\n",
    "Coeff_x3y4 = DiscPoly.monomial_coefficient(S(x^3*y^4))\n",
    "Coeff_x2y5 = DiscPoly.monomial_coefficient(S(x^2*y^5))\n",
    "Coeff_xy6 = DiscPoly.monomial_coefficient(S(x*y^6))\n",
    "Coeff_y7 = DiscPoly.monomial_coefficient(S(y^7))"
   ]
  },
  {
   "cell_type": "code",
   "execution_count": 14,
   "id": "bb0298b6-155a-4705-9abf-a7b554e9d910",
   "metadata": {},
   "outputs": [],
   "source": [
    "Coeff_x6 = DiscPoly.monomial_coefficient(S(x^6))\n",
    "Coeff_x5y = DiscPoly.monomial_coefficient(S(x^5*y))\n",
    "Coeff_x4y2 = DiscPoly.monomial_coefficient(S(x^4*y^2))\n",
    "Coeff_x3y3 = DiscPoly.monomial_coefficient(S(x^3*y^3))\n",
    "Coeff_x2y4 = DiscPoly.monomial_coefficient(S(x^2*y^4))\n",
    "Coeff_xy5 = DiscPoly.monomial_coefficient(S(x*y^5))\n",
    "Coeff_y6 = DiscPoly.monomial_coefficient(S(y^6))"
   ]
  },
  {
   "cell_type": "code",
   "execution_count": 15,
   "id": "4e0cde15-5336-4487-a00c-c07686210922",
   "metadata": {},
   "outputs": [],
   "source": [
    "Coeff_x5 = DiscPoly.monomial_coefficient(S(x^5))\n",
    "Coeff_x4y = DiscPoly.monomial_coefficient(S(x^4*y))\n",
    "Coeff_x3y2 = DiscPoly.monomial_coefficient(S(x^3*y^2))\n",
    "Coeff_x2y3 = DiscPoly.monomial_coefficient(S(x^2*y^3))\n",
    "Coeff_xy4 = DiscPoly.monomial_coefficient(S(x*y^4))\n",
    "Coeff_y5 = DiscPoly.monomial_coefficient(S(y^5))"
   ]
  },
  {
   "cell_type": "code",
   "execution_count": 16,
   "id": "325560f9-a3d0-4970-a949-5c374626ce85",
   "metadata": {},
   "outputs": [],
   "source": [
    "Coeff_x4 = DiscPoly.monomial_coefficient(S(x^4))\n",
    "Coeff_x3y = DiscPoly.monomial_coefficient(S(x^3*y))\n",
    "Coeff_x2y2 = DiscPoly.monomial_coefficient(S(x^2*y^2))\n",
    "Coeff_xy3 = DiscPoly.monomial_coefficient(S(x*y^3))\n",
    "Coeff_y4 = DiscPoly.monomial_coefficient(S(y^4))"
   ]
  },
  {
   "cell_type": "code",
   "execution_count": 17,
   "id": "e568a8df-c6e9-4444-ac42-ee4b967f082f",
   "metadata": {},
   "outputs": [],
   "source": [
    "Coeff_x3 = DiscPoly.monomial_coefficient(S(x^3))\n",
    "Coeff_x2y = DiscPoly.monomial_coefficient(S(x^2*y))\n",
    "Coeff_xy2 = DiscPoly.monomial_coefficient(S(x*y^2))\n",
    "Coeff_y3 = DiscPoly.monomial_coefficient(S(y^3))"
   ]
  },
  {
   "cell_type": "code",
   "execution_count": 18,
   "id": "52ac43fd-10a6-420e-9b26-2b98ca4d5fef",
   "metadata": {},
   "outputs": [],
   "source": [
    "Coeff_x2 = DiscPoly.monomial_coefficient(S(x^2))\n",
    "Coeff_xy = DiscPoly.monomial_coefficient(S(x*y))\n",
    "Coeff_y2 = DiscPoly.monomial_coefficient(S(y^2))"
   ]
  },
  {
   "cell_type": "code",
   "execution_count": 19,
   "id": "28c9409d-5658-4bff-98d0-8af32c649162",
   "metadata": {},
   "outputs": [],
   "source": [
    "Coeff_x = DiscPoly.monomial_coefficient(S(x))\n",
    "Coeff_y = DiscPoly.monomial_coefficient(S(y))"
   ]
  },
  {
   "cell_type": "code",
   "execution_count": 20,
   "id": "fd7e3676-660c-43df-8a7d-9ae732096761",
   "metadata": {},
   "outputs": [],
   "source": [
    "Coeff_c = DiscPoly.constant_coefficient()"
   ]
  },
  {
   "cell_type": "code",
   "execution_count": 21,
   "id": "4521f8ed-5406-4895-b09b-543f93b4ec61",
   "metadata": {},
   "outputs": [],
   "source": [
    "var(\"C_x8, C_x7y, C_x6y2, C_x5y3, C_x4y4, C_x3y5, C_x2y6, C_xy7, C_y8, C_x7, C_x6y, C_x5y2, C_x4y3, C_x3y4, C_x2y5, C_xy6, C_y7, C_x6, C_x5y, C_x4y2, C_x3y3, C_x2y4, C_xy5, C_y6, C_x5, C_x4y, C_x3y2, C_x2y3, C_xy4, C_y5, C_x4, C_x3y, C_x2y2, C_xy3, C_y4, C_x3, C_x2y, C_xy2, C_y3, C_x2, C_xy, C_y2, C_x, C_y, C_c\")\n",
    "A = QQ[w1_1, w1_2, b1_1, w2_1, b2_1, w3_1, w3_2, b3_1, b3_2, C_x6, C_x8, C_x7y, C_x6y2, C_x5y3, C_x4y4, C_x3y5, C_x2y6, C_xy7, C_y8, C_x7, C_x6y, C_x5y2, C_x4y3, C_x3y4, C_x2y5, C_xy6, C_y7,C_x5y, C_x4y2, C_x3y3, C_x2y4, C_xy5, C_y6, C_x5, C_x4y, C_x3y2, C_x2y3, C_xy4, C_y5, C_x4, C_x3y, C_x2y2, C_xy3, C_y4, C_x3, C_x2y, C_xy2, C_y3, C_x2, C_xy, C_y2, C_x, C_y, C_c]"
   ]
  },
  {
   "cell_type": "code",
   "execution_count": 22,
   "id": "a2753157-828c-4da4-8292-955fd3628936",
   "metadata": {},
   "outputs": [],
   "source": [
    "I = A.ideal(Coeff_x8 - C_x8, Coeff_x7y - C_x7y, Coeff_x6y2 - C_x6y2, Coeff_x5y3 - C_x5y3, Coeff_x4y4 - C_x4y4, Coeff_x3y5 - C_x3y5, Coeff_x2y6 - C_x2y6, Coeff_xy7 - C_xy7, Coeff_y8 - C_y8, Coeff_x7 - C_x7, Coeff_x6y - C_x6y, Coeff_x5y2 - C_x5y2, Coeff_x4y3 - C_x4y3, Coeff_x3y4 - C_x3y4, Coeff_x2y5 - C_x2y5, Coeff_xy6 - C_xy6, Coeff_y7 - C_y7, Coeff_x6 - C_x6, Coeff_x5y - C_x5y, Coeff_x4y2 - C_x4y2, Coeff_x3y3 - C_x3y3, Coeff_x2y4 - C_x2y4, Coeff_xy5 - C_xy5, Coeff_y6 - C_y6, Coeff_x5 - C_x5, Coeff_x4y - C_x4y, Coeff_x3y2 - C_x3y2, Coeff_x2y3 - C_x2y3, Coeff_xy4 - C_xy4, Coeff_y5 - C_y5, Coeff_x4 - C_x4, Coeff_x3y - C_x3y, Coeff_x2y2 - C_x2y2, Coeff_xy3 - C_xy3, Coeff_y4 - C_y4, Coeff_x3 - C_x3, Coeff_x2y - C_x2y, Coeff_xy2 - C_xy2, Coeff_y3 - C_y3, Coeff_x2 - C_x2, Coeff_xy - C_xy, Coeff_y2 - C_y2, Coeff_x - C_x, Coeff_y - C_y, Coeff_c - C_c)"
   ]
  },
  {
   "cell_type": "code",
   "execution_count": 23,
   "id": "b9a23704-4f87-4fd4-aaac-e8d01fd13797",
   "metadata": {},
   "outputs": [],
   "source": [
    "J = I.elimination_ideal([A(w1_1), A(w1_2), A(b1_1), A(w2_1), A(b2_1), A(w3_1), A(w3_2), A(b3_1), A(b3_2)])"
   ]
  },
  {
   "cell_type": "code",
   "execution_count": 24,
   "id": "33dccbe3-5e41-4edd-ac70-6797cd18fbf2",
   "metadata": {},
   "outputs": [
    {
     "data": {
      "text/plain": [
       "85"
      ]
     },
     "execution_count": 24,
     "metadata": {},
     "output_type": "execute_result"
    }
   ],
   "source": [
    "J.ngens()"
   ]
  },
  {
   "cell_type": "code",
   "execution_count": 25,
   "id": "5572c6d6-adb5-40ea-a173-e64b68aed9b1",
   "metadata": {},
   "outputs": [
    {
     "data": {
      "text/plain": [
       "Ideal (C_y5, C_xy4, C_x2y3, C_x3y2, C_x4y, C_x5, C_y6, C_xy5, C_x2y4, C_x3y3, C_x4y2, C_x5y, C_y7, C_xy6, C_x2y5, C_x3y4, C_x4y3, C_x5y2, C_x6y, C_x7, C_y8, C_xy7, C_x2y6, C_x3y5, C_x4y4, C_x5y3, C_x6y2, C_x7y, C_x8, C_x6, 2*C_y2*C_x - C_xy*C_y, C_xy*C_x - 2*C_x2*C_y, 3*C_y3*C_x - C_xy2*C_y, C_xy2*C_x - C_x2y*C_y, C_x2y*C_x - 3*C_x3*C_y, 4*C_y4*C_x - C_xy3*C_y, 3*C_xy3*C_x - 2*C_x2y2*C_y, 2*C_x2y2*C_x - 3*C_x3y*C_y, C_x3y*C_x - 4*C_x4*C_y, C_xy^2 - 4*C_x2*C_y2, 3*C_y3*C_xy - 2*C_xy2*C_y2, C_xy2*C_xy - 2*C_x2y*C_y2, C_x2y*C_xy - 6*C_x3*C_y2, 2*C_y4*C_xy - C_xy3*C_y2, 3*C_xy3*C_xy - 4*C_x2y2*C_y2, C_x2y2*C_xy - 3*C_x3y*C_y2, C_x3y*C_xy - 8*C_x4*C_y2, 3*C_y3*C_x2 - C_x2y*C_y2, C_xy2*C_x2 - 3*C_x3*C_y2, 2*C_x2y*C_x2 - 3*C_x3*C_xy, 6*C_y4*C_x2 - C_x2y2*C_y2, C_xy3*C_x2 - C_x3y*C_y2, C_x2y2*C_x2 - 6*C_x4*C_y2, C_x3y*C_x2 - 2*C_x4*C_xy, C_xy2^2 - 3*C_x2y*C_y3, C_x2y*C_xy2 - 9*C_x3*C_y3, 4*C_y4*C_xy2 - 3*C_xy3*C_y3, C_xy3*C_xy2 - 2*C_x2y2*C_y3, 2*C_x2y2*C_xy2 - 9*C_x3y*C_y3, C_x3y*C_xy2 - 12*C_x4*C_y3, C_x2y^2 - 3*C_x3*C_xy2, 2*C_y4*C_x2y - C_x2y2*C_y3, C_xy3*C_x2y - 3*C_x3y*C_y3, C_x2y2*C_x2y - 18*C_x4*C_y3, C_x3y*C_x2y - 4*C_x4*C_xy2, 4*C_y4*C_x3 - C_x3y*C_y3, C_xy3*C_x3 - 4*C_x4*C_y3, C_x2y2*C_x3 - 2*C_x4*C_xy2, 3*C_x3y*C_x3 - 4*C_x4*C_x2y, 3*C_xy3^2 - 8*C_x2y2*C_y4, C_x2y2*C_xy3 - 6*C_x3y*C_y4, C_x3y*C_xy3 - 16*C_x4*C_y4, C_x2y2^2 - 36*C_x4*C_y4, C_x3y*C_x2y2 - 6*C_x4*C_xy3, 3*C_x3y^2 - 8*C_x4*C_x2y2, C_y3^3 - 4*C_y4*C_y3*C_y2 + 8*C_y4^2*C_y, C_xy2*C_y3^2 - 3*C_xy3*C_y3*C_y2 + 6*C_xy3*C_y4*C_y, C_x2y*C_y3^2 - 2*C_x2y2*C_y3*C_y2 + 4*C_x2y2*C_y4*C_y, C_x3*C_y3^2 - C_x3y*C_y3*C_y2 + 2*C_x3y*C_y4*C_y, C_x3*C_xy2*C_y3 - 12*C_x4*C_y3*C_y2 + 24*C_x4*C_y4*C_y, C_x3*C_x2y*C_y3 - 4*C_x4*C_xy2*C_y2 + 6*C_x4*C_xy3*C_y, 3*C_x3^2*C_y3 - 4*C_x4*C_x2y*C_y2 + 4*C_x4*C_x2y2*C_y, C_x3^2*C_xy2 - 12*C_x4*C_x3*C_y2 + 6*C_x4*C_x3y*C_y, C_x3^2*C_x2y - 6*C_x4*C_x3*C_xy + 24*C_x4^2*C_y, C_x3^3 - 4*C_x4*C_x3*C_x2 + 8*C_x4^2*C_x) of Multivariate Polynomial Ring in w1_1, w1_2, b1_1, w2_1, b2_1, w3_1, w3_2, b3_1, b3_2, C_x6, C_x8, C_x7y, C_x6y2, C_x5y3, C_x4y4, C_x3y5, C_x2y6, C_xy7, C_y8, C_x7, C_x6y, C_x5y2, C_x4y3, C_x3y4, C_x2y5, C_xy6, C_y7, C_x5y, C_x4y2, C_x3y3, C_x2y4, C_xy5, C_y6, C_x5, C_x4y, C_x3y2, C_x2y3, C_xy4, C_y5, C_x4, C_x3y, C_x2y2, C_xy3, C_y4, C_x3, C_x2y, C_xy2, C_y3, C_x2, C_xy, C_y2, C_x, C_y, C_c over Rational Field"
      ]
     },
     "execution_count": 25,
     "metadata": {},
     "output_type": "execute_result"
    }
   ],
   "source": [
    "J"
   ]
  },
  {
   "cell_type": "code",
   "execution_count": null,
   "id": "880b04dc-86d9-4079-9f74-aac008f1a369",
   "metadata": {},
   "outputs": [],
   "source": []
  }
 ],
 "metadata": {
  "kernelspec": {
   "display_name": "SageMath 9.5",
   "language": "sage",
   "name": "sagemath"
  },
  "language_info": {
   "codemirror_mode": {
    "name": "ipython",
    "version": 3
   },
   "file_extension": ".py",
   "mimetype": "text/x-python",
   "name": "python",
   "nbconvert_exporter": "python",
   "pygments_lexer": "ipython3",
   "version": "3.9.7"
  }
 },
 "nbformat": 4,
 "nbformat_minor": 5
}
