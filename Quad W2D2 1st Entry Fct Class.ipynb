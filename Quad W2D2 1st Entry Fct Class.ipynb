{
 "cells": [
  {
   "cell_type": "code",
   "execution_count": 4,
   "id": "244027a1-cf87-45ff-95eb-3e1d5fe58308",
   "metadata": {},
   "outputs": [
    {
     "data": {
      "text/plain": [
       "(w1_11, w1_12, w1_21, w1_22, b1_1, b1_2)"
      ]
     },
     "execution_count": 4,
     "metadata": {},
     "output_type": "execute_result"
    }
   ],
   "source": [
    "var(\"w1_11, w1_12, w1_21, w1_22, b1_1, b1_2\")"
   ]
  },
  {
   "cell_type": "code",
   "execution_count": 5,
   "id": "28b7722f-4fad-4eed-814d-1324175b06bb",
   "metadata": {},
   "outputs": [
    {
     "data": {
      "text/plain": [
       "(w2_11, w2_12, b2_1)"
      ]
     },
     "execution_count": 5,
     "metadata": {},
     "output_type": "execute_result"
    }
   ],
   "source": [
    "var(\"w2_11, w2_12, b2_1\")"
   ]
  },
  {
   "cell_type": "code",
   "execution_count": 6,
   "id": "9f8fa969-ed23-4c31-9895-5638021063ce",
   "metadata": {},
   "outputs": [
    {
     "data": {
      "text/plain": [
       "(x, y)"
      ]
     },
     "execution_count": 6,
     "metadata": {},
     "output_type": "execute_result"
    }
   ],
   "source": [
    "var(\"x, y\")"
   ]
  },
  {
   "cell_type": "code",
   "execution_count": 7,
   "id": "eb3ee7cf-63e1-4bfd-a4b1-91ef799c8169",
   "metadata": {},
   "outputs": [],
   "source": [
    "S = QQ[w1_11, w1_12, w1_21, w1_22, b1_1, b1_2, w2_11, w2_12, b2_1][x,y]"
   ]
  },
  {
   "cell_type": "code",
   "execution_count": 8,
   "id": "c1dfe505-9075-446c-b5c1-f61985756539",
   "metadata": {},
   "outputs": [],
   "source": [
    "F = (w1_11*x + w1_12*y + b1_1)^2*w2_11 + (w1_21*x + w1_22*y + b1_2)^2*w2_12 + b2_1"
   ]
  },
  {
   "cell_type": "code",
   "execution_count": 9,
   "id": "cd0b9ff5-1172-4997-b0c7-b679cb094805",
   "metadata": {},
   "outputs": [],
   "source": [
    "DiscPoly = S(expand(F))"
   ]
  },
  {
   "cell_type": "code",
   "execution_count": 10,
   "id": "08cb1ca8-f801-4940-8389-e5ec8f7b3d88",
   "metadata": {},
   "outputs": [],
   "source": [
    "Coeff_x2 = DiscPoly.monomial_coefficient(S(x^2))\n",
    "Coeff_xy = DiscPoly.monomial_coefficient(S(x*y))\n",
    "Coeff_y2 = DiscPoly.monomial_coefficient(S(y^2))"
   ]
  },
  {
   "cell_type": "code",
   "execution_count": 11,
   "id": "2ee80f16-d28c-42e8-a2d1-90e9ac529d59",
   "metadata": {},
   "outputs": [],
   "source": [
    "Coeff_x = DiscPoly.monomial_coefficient(S(x))\n",
    "Coeff_y = DiscPoly.monomial_coefficient(S(y))"
   ]
  },
  {
   "cell_type": "code",
   "execution_count": 16,
   "id": "9784eef3-da76-4ef0-8416-ed1d29e35e28",
   "metadata": {},
   "outputs": [],
   "source": [
    "Coeff_c = DiscPoly.constant_coefficient()"
   ]
  },
  {
   "cell_type": "code",
   "execution_count": 17,
   "id": "145f9136-f959-463b-902f-18ae46ea7664",
   "metadata": {},
   "outputs": [],
   "source": [
    "var(\"C_x2, C_xy, C_y2, C_x, C_y, C_c\")\n",
    "A = QQ[w1_11, w1_12, w1_21, w1_22, b1_1, b1_2, w2_11, w2_12, b2_1, C_x2, C_xy, C_y2, C_x, C_y, C_c]"
   ]
  },
  {
   "cell_type": "code",
   "execution_count": 18,
   "id": "d80041fe-7186-42ed-87a2-45deac8673ed",
   "metadata": {},
   "outputs": [],
   "source": [
    "I = A.ideal(Coeff_x2 - C_x2, Coeff_xy - C_xy, Coeff_y2 - C_y2, Coeff_x - C_x, Coeff_y - C_y, Coeff_c - C_c)"
   ]
  },
  {
   "cell_type": "code",
   "execution_count": 19,
   "id": "efc04426-a377-47e1-b759-fab255460e51",
   "metadata": {},
   "outputs": [
    {
     "data": {
      "text/plain": [
       "Ideal (0) of Multivariate Polynomial Ring in w1_11, w1_12, w1_21, w1_22, b1_1, b1_2, w2_11, w2_12, b2_1, C_x2, C_xy, C_y2, C_x, C_y, C_c over Rational Field"
      ]
     },
     "execution_count": 19,
     "metadata": {},
     "output_type": "execute_result"
    }
   ],
   "source": [
    "I.elimination_ideal([A(w1_11), A(w1_12), A(w1_21), A(w1_22), A(b1_1), A(b1_2), A(w2_11), A(w2_12), A(b2_1)])"
   ]
  },
  {
   "cell_type": "code",
   "execution_count": 20,
   "id": "bac56f29-6357-4599-93aa-5313d3efe6e6",
   "metadata": {},
   "outputs": [
    {
     "data": {
      "text/plain": [
       "(w1_11^2*w2_11 + w1_21^2*w2_12)*x^2 + (2*w1_11*w1_12*w2_11 + 2*w1_21*w1_22*w2_12)*x*y + (w1_12^2*w2_11 + w1_22^2*w2_12)*y^2 + (2*w1_11*b1_1*w2_11 + 2*w1_21*b1_2*w2_12)*x + (2*w1_12*b1_1*w2_11 + 2*w1_22*b1_2*w2_12)*y + b1_1^2*w2_11 + b1_2^2*w2_12 + b2_1"
      ]
     },
     "execution_count": 20,
     "metadata": {},
     "output_type": "execute_result"
    }
   ],
   "source": [
    "DiscPoly"
   ]
  },
  {
   "cell_type": "code",
   "execution_count": null,
   "id": "f9420f25-3ec7-4101-99f8-e12ca40bbdc5",
   "metadata": {},
   "outputs": [],
   "source": []
  }
 ],
 "metadata": {
  "kernelspec": {
   "display_name": "SageMath 9.5",
   "language": "sage",
   "name": "sagemath"
  },
  "language_info": {
   "codemirror_mode": {
    "name": "ipython",
    "version": 3
   },
   "file_extension": ".py",
   "mimetype": "text/x-python",
   "name": "python",
   "nbconvert_exporter": "python",
   "pygments_lexer": "ipython3",
   "version": "3.9.7"
  }
 },
 "nbformat": 4,
 "nbformat_minor": 5
}
