{
 "cells": [
  {
   "cell_type": "code",
   "execution_count": null,
   "id": "f74cfd68-d643-4646-8a04-a9b92b4437bf",
   "metadata": {},
   "outputs": [],
   "source": [
    "var('w1_1, w1_2, b1_1')"
   ]
  },
  {
   "cell_type": "code",
   "execution_count": null,
   "id": "48b06002-05da-4218-bec1-adc628edf709",
   "metadata": {},
   "outputs": [],
   "source": [
    "var('w2_1, b2_1')"
   ]
  },
  {
   "cell_type": "code",
   "execution_count": null,
   "id": "5546d5c4-5e57-40c6-9b81-1bf4939105e7",
   "metadata": {},
   "outputs": [],
   "source": [
    "var('w3_1, w3_2, b3_1, b3_2')"
   ]
  },
  {
   "cell_type": "code",
   "execution_count": null,
   "id": "94b4a0cc-21b9-4ab7-ac11-9a209a753f70",
   "metadata": {},
   "outputs": [],
   "source": [
    "var('x,y')"
   ]
  },
  {
   "cell_type": "code",
   "execution_count": null,
   "id": "ff32e005-9ea0-4055-807b-f49bcaadb515",
   "metadata": {},
   "outputs": [],
   "source": [
    "S = QQ[w1_1, w1_2, b1_1, w2_1, b2_1, w3_1, w3_2, b3_1, b3_2][x,y]"
   ]
  },
  {
   "cell_type": "code",
   "execution_count": null,
   "id": "1c837993-c2a2-4cf0-b849-6cd32e3846ca",
   "metadata": {},
   "outputs": [],
   "source": [
    "W1 = vector([w1_1, w1_2])\n",
    "B1 = vector([b1_1])\n",
    "\n",
    "W2 = vector([w2_1])\n",
    "B2 = vector([b2_1])\n",
    "\n",
    "W3 = vector([w3_1, w3_2])\n",
    "B3 = vector([b3_1, b3_2])\n",
    "    \n",
    "X = vector([x,y])"
   ]
  },
  {
   "cell_type": "code",
   "execution_count": null,
   "id": "0bb544a3-e389-434b-8676-9b93a7031f62",
   "metadata": {},
   "outputs": [],
   "source": [
    "O1 = W1.dot_product(X) + b1_1\n",
    "sqO1 = O1 * O1\n",
    "sqO1"
   ]
  },
  {
   "cell_type": "code",
   "execution_count": null,
   "id": "373e137e-1d29-4403-a154-fc973753b6b3",
   "metadata": {},
   "outputs": [],
   "source": [
    "O2 = w2_1*sqO1 + b2_1"
   ]
  },
  {
   "cell_type": "code",
   "execution_count": null,
   "id": "ccb20b8e-cdc6-4533-a573-d74b6211e89e",
   "metadata": {},
   "outputs": [],
   "source": [
    "O3 = W3*O2 + B3"
   ]
  },
  {
   "cell_type": "code",
   "execution_count": null,
   "id": "c392d351-a060-4d60-9edc-167bb95413a7",
   "metadata": {},
   "outputs": [],
   "source": [
    "Output = O3*vector([1,-1])"
   ]
  },
  {
   "cell_type": "code",
   "execution_count": null,
   "id": "b35be374-51b3-4261-954c-83cac5821fb1",
   "metadata": {},
   "outputs": [],
   "source": [
    "DiscPoly = S(expand(Output))"
   ]
  },
  {
   "cell_type": "code",
   "execution_count": null,
   "id": "91064b74-0527-4a47-89f4-c4b1ac49595c",
   "metadata": {},
   "outputs": [],
   "source": [
    "Coeff_x2 = DiscPoly.monomial_coefficient(S(x^2))\n",
    "Coeff_xy = DiscPoly.monomial_coefficient(S(x*y))\n",
    "Coeff_y2 = DiscPoly.monomial_coefficient(S(y^2))"
   ]
  },
  {
   "cell_type": "code",
   "execution_count": null,
   "id": "31d5a424-7eaa-4595-ac80-5240dd66d517",
   "metadata": {},
   "outputs": [],
   "source": [
    "Coeff_x = DiscPoly.monomial_coefficient(S(x))\n",
    "Coeff_y = DiscPoly.monomial_coefficient(S(y))"
   ]
  },
  {
   "cell_type": "code",
   "execution_count": null,
   "id": "2e75ceae-1af5-4ac0-bff4-7944db94fc16",
   "metadata": {},
   "outputs": [],
   "source": [
    "Coeff_c = DiscPoly.constant_coefficient()"
   ]
  },
  {
   "cell_type": "code",
   "execution_count": null,
   "id": "96da3cfd-2708-46d1-a707-d172b1cf26d9",
   "metadata": {},
   "outputs": [],
   "source": [
    "var(\"C_x2, C_xy, C_y2, C_x, C_y, C_c\")\n",
    "A = QQ[w1_1, w1_2, b1_1, w2_1, b2_1, w3_1, w3_2, b3_1, b3_2, C_x2, C_xy, C_y2, C_x, C_y, C_c]"
   ]
  },
  {
   "cell_type": "code",
   "execution_count": null,
   "id": "18dbd136-29e3-428a-a39e-06bc43908d8a",
   "metadata": {},
   "outputs": [],
   "source": [
    "I = A.ideal(Coeff_x2 - C_x2, Coeff_xy - C_xy, Coeff_y2 - C_y2, Coeff_x - C_x, Coeff_y - C_y, Coeff_c - C_c)"
   ]
  },
  {
   "cell_type": "code",
   "execution_count": null,
   "id": "dbc3c367-dcb6-4bab-b1a3-dc65b2224288",
   "metadata": {},
   "outputs": [],
   "source": [
    "I.elimination_ideal([A(w1_1), A(w1_2), A(b1_1), A(w2_1), A(b2_1), A(w3_1), A(w3_2), A(b3_1), A(b3_2)])"
   ]
  },
  {
   "cell_type": "code",
   "execution_count": null,
   "id": "df5df229-1cf2-4be6-acb8-129899988959",
   "metadata": {},
   "outputs": [],
   "source": [
    "T = QQ[C_x2, C_xy, C_y2, C_x, C_y, C_c]"
   ]
  },
  {
   "cell_type": "code",
   "execution_count": null,
   "id": "5b792147-50b4-40e1-8127-e7892d3ba803",
   "metadata": {},
   "outputs": [],
   "source": [
    "J = T.ideal(2*C_y2*C_x - C_xy*C_y, C_xy*C_x - 2*C_x2*C_y, C_xy^2 - 4*C_x2*C_y2)"
   ]
  },
  {
   "cell_type": "code",
   "execution_count": null,
   "id": "c1f785c8-e907-42e3-9ea3-c1a7f76f5a24",
   "metadata": {},
   "outputs": [],
   "source": [
    "J.dimension()"
   ]
  },
  {
   "cell_type": "code",
   "execution_count": null,
   "id": "db029469-4417-44e7-9f62-fc4916faf357",
   "metadata": {},
   "outputs": [],
   "source": [
    "O2"
   ]
  },
  {
   "cell_type": "code",
   "execution_count": null,
   "id": "64ae15cb-b58e-4418-ac57-017a72e3beda",
   "metadata": {},
   "outputs": [],
   "source": []
  },
  {
   "cell_type": "code",
   "execution_count": null,
   "id": "1c36baf2-14e3-4a42-a923-08ff37c4e6b2",
   "metadata": {},
   "outputs": [],
   "source": []
  }
 ],
 "metadata": {
  "kernelspec": {
   "display_name": "SageMath 9.5",
   "language": "sage",
   "name": "sagemath"
  },
  "language_info": {
   "codemirror_mode": {
    "name": "ipython",
    "version": 3
   },
   "file_extension": ".py",
   "mimetype": "text/x-python",
   "name": "python",
   "nbconvert_exporter": "python",
   "pygments_lexer": "ipython3",
   "version": "3.9.7"
  }
 },
 "nbformat": 4,
 "nbformat_minor": 5
}
