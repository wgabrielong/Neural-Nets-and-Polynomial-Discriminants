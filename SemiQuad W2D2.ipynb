{
 "cells": [
  {
   "cell_type": "code",
   "execution_count": 1,
   "id": "d113cab0-1c99-425f-bef8-3de16e9539eb",
   "metadata": {},
   "outputs": [
    {
     "data": {
      "text/plain": [
       "(w1_11, w1_12, w1_21, w1_22, b1_1, b1_2)"
      ]
     },
     "execution_count": 1,
     "metadata": {},
     "output_type": "execute_result"
    }
   ],
   "source": [
    "var(\"w1_11, w1_12, w1_21, w1_22, b1_1, b1_2\")"
   ]
  },
  {
   "cell_type": "code",
   "execution_count": 2,
   "id": "ec44204f-8f7d-4b98-a694-9504eef1bd6a",
   "metadata": {},
   "outputs": [
    {
     "data": {
      "text/plain": [
       "(w2_11, w2_12, w2_21, w2_22, b2_1, b2_2)"
      ]
     },
     "execution_count": 2,
     "metadata": {},
     "output_type": "execute_result"
    }
   ],
   "source": [
    "var(\"w2_11, w2_12, w2_21, w2_22, b2_1, b2_2\")"
   ]
  },
  {
   "cell_type": "code",
   "execution_count": 3,
   "id": "2398c61e-3893-4436-a7f3-c7e7a90d2fc6",
   "metadata": {},
   "outputs": [
    {
     "data": {
      "text/plain": [
       "(x, y)"
      ]
     },
     "execution_count": 3,
     "metadata": {},
     "output_type": "execute_result"
    }
   ],
   "source": [
    "var(\"x, y\")"
   ]
  },
  {
   "cell_type": "code",
   "execution_count": 4,
   "id": "261b776d-dca8-4bf3-bcda-8f3da741eb08",
   "metadata": {},
   "outputs": [],
   "source": [
    "S = QQ[w1_11, w1_12, w1_21, w1_22, b1_1, b1_2, w2_11, w2_12, w2_21, w2_22, b2_1, b2_2][x,y]"
   ]
  },
  {
   "cell_type": "code",
   "execution_count": 5,
   "id": "80b3ca59-3f58-4174-83ff-50470ba00038",
   "metadata": {},
   "outputs": [],
   "source": [
    "W1 = Matrix([[w1_11, w1_12],[w1_21, w1_22]])\n",
    "B1 = vector([b1_1, b1_2])\n",
    "\n",
    "W2 = Matrix([[w2_11, w2_12],[w2_21, w2_22]])\n",
    "B2 = vector([b2_1, b2_2])\n",
    "\n",
    "X = vector([x,y])"
   ]
  },
  {
   "cell_type": "code",
   "execution_count": 6,
   "id": "0552289e-9d4e-4478-b908-af4d3057061d",
   "metadata": {},
   "outputs": [
    {
     "data": {
      "text/plain": [
       "((w1_11*x + w1_12*y + b1_1)^2, (w1_21*x + w1_22*y + b1_2)^2)"
      ]
     },
     "execution_count": 6,
     "metadata": {},
     "output_type": "execute_result"
    }
   ],
   "source": [
    "O1 = W1*X + B1\n",
    "sqO1 = O1.apply_map(lambda x: x^2)\n",
    "sqO1"
   ]
  },
  {
   "cell_type": "code",
   "execution_count": 7,
   "id": "0b03fd19-f96b-460d-8b56-ba9d37f20772",
   "metadata": {},
   "outputs": [
    {
     "data": {
      "text/plain": [
       "((w1_11*x + w1_12*y + b1_1)^2*w2_11 + (w1_21*x + w1_22*y + b1_2)^2*w2_12 + b2_1, (w1_11*x + w1_12*y + b1_1)^2*w2_21 + (w1_21*x + w1_22*y + b1_2)^2*w2_22 + b2_2)"
      ]
     },
     "execution_count": 7,
     "metadata": {},
     "output_type": "execute_result"
    }
   ],
   "source": [
    "O2 = W2*sqO1 + B2\n",
    "O2"
   ]
  },
  {
   "cell_type": "code",
   "execution_count": 8,
   "id": "d530daae-2cf3-4f13-8888-36e456fa7cdf",
   "metadata": {},
   "outputs": [],
   "source": [
    "Output = O2*vector([1,-1])"
   ]
  },
  {
   "cell_type": "code",
   "execution_count": 9,
   "id": "28b8778e-a0e2-4a65-bfc5-48ab374ad9d6",
   "metadata": {},
   "outputs": [],
   "source": [
    "DiscPoly = S(expand(Output))"
   ]
  },
  {
   "cell_type": "code",
   "execution_count": 10,
   "id": "5ea4a700-b402-486f-82b6-b918ea489291",
   "metadata": {},
   "outputs": [],
   "source": [
    "Coeff_x2 = DiscPoly.monomial_coefficient(S(x^2))\n",
    "Coeff_xy = DiscPoly.monomial_coefficient(S(x*y))\n",
    "Coeff_y2 = DiscPoly.monomial_coefficient(S(y^2))"
   ]
  },
  {
   "cell_type": "code",
   "execution_count": 11,
   "id": "11adba44-d41d-4c30-b255-4009ab122e5c",
   "metadata": {},
   "outputs": [],
   "source": [
    "Coeff_x = DiscPoly.monomial_coefficient(S(x))\n",
    "Coeff_y = DiscPoly.monomial_coefficient(S(y))"
   ]
  },
  {
   "cell_type": "code",
   "execution_count": 12,
   "id": "3619a1eb-9395-459a-b832-78c391df5a76",
   "metadata": {},
   "outputs": [],
   "source": [
    "Coeff_c = DiscPoly.constant_coefficient()"
   ]
  },
  {
   "cell_type": "code",
   "execution_count": 13,
   "id": "8309842a-5dba-4dad-83c9-1b90b31c0eb9",
   "metadata": {},
   "outputs": [],
   "source": [
    "var(\"C_x2, C_xy, C_y2, C_x, C_y, C_c\")\n",
    "A = QQ[w1_11, w1_12, w1_21, w1_22, b1_1, b1_2, w2_11, w2_12, w2_21, w2_22, b2_1, b2_2, C_x2, C_xy, C_y2, C_x, C_y, C_c]"
   ]
  },
  {
   "cell_type": "code",
   "execution_count": 14,
   "id": "74cc6e3c-ef7b-4591-ad78-339f83a6872e",
   "metadata": {},
   "outputs": [],
   "source": [
    "I = A.ideal(Coeff_x2 - C_x2, Coeff_xy - C_xy, Coeff_y2 - C_y2, Coeff_x - C_x, Coeff_y - C_y, Coeff_c - C_c)"
   ]
  },
  {
   "cell_type": "code",
   "execution_count": 51,
   "id": "9f501e10-6a66-42e9-9276-d7fdb6251f5b",
   "metadata": {},
   "outputs": [
    {
     "data": {
      "text/plain": [
       "Ideal (0) of Multivariate Polynomial Ring in w1_11, w1_12, w1_21, w1_22, b1_1, b1_2, w2_11, w2_12, w2_21, w2_22, b2_1, b2_2, C_x2, C_xy, C_y2, C_x, C_y, C_c over Rational Field"
      ]
     },
     "execution_count": 51,
     "metadata": {},
     "output_type": "execute_result"
    },
    {
     "name": "stdout",
     "output_type": "stream",
     "text": [
      "Exiting Sage (CPU time 0m2.19s, Wall time 69m36.70s).\n",
      "Exiting Singular with PID 1391559 running /mnt/local/sage-9.5/bin/Singular -t --ticks-per-sec 1000 --cntrlc=a\n"
     ]
    }
   ],
   "source": [
    "I.elimination_ideal([A(w1_11), A(w1_12), A(w1_21), A(w1_22), A(b1_1), A(b1_2), A(w2_11), A(w2_12), A(w2_21), A(w2_22), A(b2_1), A(b2_2)])"
   ]
  },
  {
   "cell_type": "code",
   "execution_count": 22,
   "id": "8e938773-c9c7-42f6-8242-15a46f026a54",
   "metadata": {},
   "outputs": [
    {
     "data": {
      "text/plain": [
       "b1_1^2*w2_11 + b1_2^2*w2_12 - b1_1^2*w2_21 - b1_2^2*w2_22 + b2_1 - b2_2"
      ]
     },
     "execution_count": 22,
     "metadata": {},
     "output_type": "execute_result"
    }
   ],
   "source": [
    "Coeff_c"
   ]
  },
  {
   "cell_type": "code",
   "execution_count": null,
   "id": "5490cd95-794e-43cf-ab89-72712918ca36",
   "metadata": {},
   "outputs": [],
   "source": []
  }
 ],
 "metadata": {
  "kernelspec": {
   "display_name": "SageMath 9.5",
   "language": "sage",
   "name": "sagemath"
  },
  "language_info": {
   "codemirror_mode": {
    "name": "ipython",
    "version": 3
   },
   "file_extension": ".py",
   "mimetype": "text/x-python",
   "name": "python",
   "nbconvert_exporter": "python",
   "pygments_lexer": "ipython3",
   "version": "3.9.7"
  }
 },
 "nbformat": 4,
 "nbformat_minor": 5
}
